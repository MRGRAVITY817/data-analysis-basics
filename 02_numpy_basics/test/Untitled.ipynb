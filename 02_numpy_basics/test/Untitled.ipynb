{
 "cells": [
  {
   "cell_type": "code",
   "execution_count": 90,
   "id": "rapid-audit",
   "metadata": {},
   "outputs": [],
   "source": [
    "import numpy as np"
   ]
  },
  {
   "cell_type": "code",
   "execution_count": 91,
   "id": "annual-breeding",
   "metadata": {},
   "outputs": [],
   "source": [
    "menu = np.array([\n",
    "    [2, 10],\n",
    "    [3, 10],\n",
    "    [4, 10],\n",
    "    [5, 10],\n",
    "    [6, 10],\n",
    "])\n",
    "\n",
    "name = np.array([\"Chocolate\", \"Vanila\", \"Strawberry\", \"Orange\", \"Apple\"])\n",
    "feature = np.array([\"Price\", \"Stock\"])"
   ]
  },
  {
   "cell_type": "code",
   "execution_count": 92,
   "id": "unusual-dover",
   "metadata": {},
   "outputs": [
    {
     "data": {
      "text/plain": [
       "array([[ 2, 10],\n",
       "       [ 4, 10]])"
      ]
     },
     "execution_count": 92,
     "metadata": {},
     "output_type": "execute_result"
    }
   ],
   "source": [
    "menu[(name == \"Chocolate\") | (name== \"Strawberry\")]"
   ]
  },
  {
   "cell_type": "code",
   "execution_count": 93,
   "id": "disabled-profile",
   "metadata": {},
   "outputs": [
    {
     "data": {
      "text/plain": [
       "array([10])"
      ]
     },
     "execution_count": 93,
     "metadata": {},
     "output_type": "execute_result"
    }
   ],
   "source": [
    "menu[name == \"Chocolate\", feature == \"Stock\"]"
   ]
  },
  {
   "cell_type": "code",
   "execution_count": 94,
   "id": "biblical-neutral",
   "metadata": {},
   "outputs": [],
   "source": [
    "def menu_data(name_data, feature_data):\n",
    "    return menu[name == name_data, feature == feature_data]"
   ]
  },
  {
   "cell_type": "code",
   "execution_count": 95,
   "id": "pressed-smile",
   "metadata": {},
   "outputs": [
    {
     "data": {
      "text/plain": [
       "array([10])"
      ]
     },
     "execution_count": 95,
     "metadata": {},
     "output_type": "execute_result"
    }
   ],
   "source": [
    "menu_data(\"Apple\", \"Stock\")"
   ]
  },
  {
   "cell_type": "code",
   "execution_count": 96,
   "id": "essential-darkness",
   "metadata": {},
   "outputs": [],
   "source": [
    "money = 0\n",
    "\n",
    "def buy_icecream(menu, icecream, money):\n",
    "    money += menu_data(icecream, \"Price\")\n",
    "    menu[name==icecream, feature==\"Stock\"] -= 1\n",
    "    return money"
   ]
  },
  {
   "cell_type": "code",
   "execution_count": 97,
   "id": "adjustable-haiti",
   "metadata": {},
   "outputs": [
    {
     "data": {
      "text/plain": [
       "(array([[ 2, 10],\n",
       "        [ 3, 10],\n",
       "        [ 4, 10],\n",
       "        [ 5, 10],\n",
       "        [ 6,  9]]),\n",
       " array([6]))"
      ]
     },
     "execution_count": 97,
     "metadata": {},
     "output_type": "execute_result"
    }
   ],
   "source": [
    "money = buy_icecream(menu, \"Apple\", money)\n",
    "menu, money"
   ]
  },
  {
   "cell_type": "code",
   "execution_count": 98,
   "id": "flying-allen",
   "metadata": {},
   "outputs": [],
   "source": [
    "name = np.append(name, [\"Banana\"])"
   ]
  },
  {
   "cell_type": "code",
   "execution_count": 99,
   "id": "valid-champagne",
   "metadata": {},
   "outputs": [
    {
     "data": {
      "text/plain": [
       "array(['Chocolate', 'Vanila', 'Strawberry', 'Orange', 'Apple', 'Banana'],\n",
       "      dtype='<U10')"
      ]
     },
     "execution_count": 99,
     "metadata": {},
     "output_type": "execute_result"
    }
   ],
   "source": [
    "name"
   ]
  },
  {
   "cell_type": "code",
   "execution_count": 100,
   "id": "previous-pennsylvania",
   "metadata": {},
   "outputs": [],
   "source": [
    "menu = np.append(menu, np.array([[7, 10]]), axis=0)"
   ]
  },
  {
   "cell_type": "code",
   "execution_count": 101,
   "id": "warming-liberty",
   "metadata": {},
   "outputs": [
    {
     "data": {
      "text/plain": [
       "array([[ 2, 10],\n",
       "       [ 3, 10],\n",
       "       [ 4, 10],\n",
       "       [ 5, 10],\n",
       "       [ 6,  9],\n",
       "       [ 7, 10]])"
      ]
     },
     "execution_count": 101,
     "metadata": {},
     "output_type": "execute_result"
    }
   ],
   "source": [
    "menu"
   ]
  },
  {
   "cell_type": "code",
   "execution_count": 102,
   "id": "permanent-asthma",
   "metadata": {},
   "outputs": [
    {
     "data": {
      "text/plain": [
       "(array([[ 2, 10],\n",
       "        [ 3, 10],\n",
       "        [ 4, 10],\n",
       "        [ 5, 10],\n",
       "        [ 6,  9],\n",
       "        [ 7,  9]]),\n",
       " array([13]))"
      ]
     },
     "execution_count": 102,
     "metadata": {},
     "output_type": "execute_result"
    }
   ],
   "source": [
    "money = buy_icecream(menu, \"Banana\", money)\n",
    "menu, money"
   ]
  },
  {
   "cell_type": "code",
   "execution_count": 103,
   "id": "tracked-footwear",
   "metadata": {},
   "outputs": [],
   "source": [
    "truth = name != \"Banana\""
   ]
  },
  {
   "cell_type": "code",
   "execution_count": 104,
   "id": "worse-liberty",
   "metadata": {},
   "outputs": [],
   "source": [
    "name = name[truth]\n",
    "menu = menu[truth]"
   ]
  },
  {
   "cell_type": "code",
   "execution_count": 105,
   "id": "medieval-edwards",
   "metadata": {},
   "outputs": [
    {
     "data": {
      "text/plain": [
       "(array(['Chocolate', 'Vanila', 'Strawberry', 'Orange', 'Apple'],\n",
       "       dtype='<U10'),\n",
       " array([[ 2, 10],\n",
       "        [ 3, 10],\n",
       "        [ 4, 10],\n",
       "        [ 5, 10],\n",
       "        [ 6,  9]]))"
      ]
     },
     "execution_count": 105,
     "metadata": {},
     "output_type": "execute_result"
    }
   ],
   "source": [
    "name, menu"
   ]
  },
  {
   "cell_type": "code",
   "execution_count": 120,
   "id": "imperial-senegal",
   "metadata": {},
   "outputs": [
    {
     "data": {
      "text/plain": [
       "array([[10],\n",
       "       [-2],\n",
       "       [10],\n",
       "       [10],\n",
       "       [ 9]])"
      ]
     },
     "execution_count": 120,
     "metadata": {},
     "output_type": "execute_result"
    }
   ],
   "source": [
    "stock = menu[:, feature==\"Stock\"]\n",
    "stock"
   ]
  },
  {
   "cell_type": "code",
   "execution_count": 121,
   "id": "related-trust",
   "metadata": {},
   "outputs": [
    {
     "data": {
      "text/plain": [
       "array([[ True],\n",
       "       [False],\n",
       "       [ True],\n",
       "       [ True],\n",
       "       [ True]])"
      ]
     },
     "execution_count": 121,
     "metadata": {},
     "output_type": "execute_result"
    }
   ],
   "source": [
    "money = buy_icecream(menu, \"Vanila\", money)\n",
    "stock > 5"
   ]
  },
  {
   "cell_type": "code",
   "execution_count": 122,
   "id": "polished-slave",
   "metadata": {},
   "outputs": [
    {
     "data": {
      "text/plain": [
       "array([[10],\n",
       "       [10],\n",
       "       [10],\n",
       "       [10],\n",
       "       [ 9]])"
      ]
     },
     "execution_count": 122,
     "metadata": {},
     "output_type": "execute_result"
    }
   ],
   "source": [
    "stock = np.where(stock>5, stock, 10)\n",
    "stock"
   ]
  },
  {
   "cell_type": "code",
   "execution_count": null,
   "id": "regulated-chambers",
   "metadata": {},
   "outputs": [],
   "source": []
  }
 ],
 "metadata": {
  "kernelspec": {
   "display_name": "Python 3",
   "language": "python",
   "name": "python3"
  },
  "language_info": {
   "codemirror_mode": {
    "name": "ipython",
    "version": 3
   },
   "file_extension": ".py",
   "mimetype": "text/x-python",
   "name": "python",
   "nbconvert_exporter": "python",
   "pygments_lexer": "ipython3",
   "version": "3.8.5"
  }
 },
 "nbformat": 4,
 "nbformat_minor": 5
}
