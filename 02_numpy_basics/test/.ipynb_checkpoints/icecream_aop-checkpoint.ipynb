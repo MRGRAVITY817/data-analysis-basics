{
 "cells": [
  {
   "cell_type": "markdown",
   "id": "immediate-velvet",
   "metadata": {},
   "source": [
    "# Icecream Shop, but Array Oriented\n",
    "\n",
    "We live in modern world, and our poor icecream shop owner doesn't have any proper managment program.  \n",
    "Today we will use AOP to make Icecream Shop program."
   ]
  },
  {
   "cell_type": "code",
   "execution_count": 23,
   "id": "assigned-satisfaction",
   "metadata": {},
   "outputs": [],
   "source": [
    "import numpy as np"
   ]
  },
  {
   "cell_type": "code",
   "execution_count": 24,
   "id": "saving-letter",
   "metadata": {},
   "outputs": [],
   "source": [
    "row = np.array([\n",
    "    \"Chocolate\" , \n",
    "    \"Strawberry\", \n",
    "    \"Vanila\"    , \n",
    "    \"Hazelnut\"  , \n",
    "    \"Banana\"    , \n",
    "    \"Orange\"    , \n",
    "])\n",
    "col = np.array([\"Price\", \"Stock\"])\n",
    "money = 0\n",
    "menu = np.array([\n",
    "    [3, 10],\n",
    "    [5, 10],\n",
    "    [2, 10],\n",
    "    [7, 10],\n",
    "    [5, 10],\n",
    "    [6, 10],\n",
    "])"
   ]
  },
  {
   "cell_type": "code",
   "execution_count": 25,
   "id": "tight-cathedral",
   "metadata": {},
   "outputs": [
    {
     "data": {
      "text/plain": [
       "array([2])"
      ]
     },
     "execution_count": 25,
     "metadata": {},
     "output_type": "execute_result"
    }
   ],
   "source": [
    "menu[row==\"Vanila\",col==\"Price\"]"
   ]
  },
  {
   "cell_type": "code",
   "execution_count": 29,
   "id": "weighted-migration",
   "metadata": {},
   "outputs": [
    {
     "name": "stdout",
     "output_type": "stream",
     "text": [
      " Hello! Welcome to Hoon's Icecream :D   \n",
      "\n",
      "                  Menu                  \n",
      "\n",
      "1. Chocolate        $3        Left: 10  \n",
      "2. Strawberry       $5        Left: 9   \n",
      "3. Vanila           $2        Left: 9   \n",
      "4. Hazelnut         $7        Left: 9   \n",
      "5. Banana           $5        Left: 10  \n",
      "6. Orange           $6        Left: 9   \n",
      "\n",
      "                      Total income: $0\n"
     ]
    }
   ],
   "source": [
    "running = True\n",
    "def print_menu(menu, money):\n",
    "    print(\"Hello! Welcome to Hoon's Icecream :D \".center(40))\n",
    "    print()\n",
    "    print(\"Menu\".center(40))\n",
    "    print()\n",
    "    for index, value in enumerate(menu):\n",
    "        line_1 = f\"{index+1}. {row[index]}\".ljust(20)\n",
    "        line_2 = f\"${value[0]}\".ljust(10)\n",
    "        line_3 = f\"Left: {value[1]}\".ljust(10)\n",
    "        print(line_1+line_2+line_3)\n",
    "    print()\n",
    "    print(f\"Total income: ${money}\".rjust(38))\n",
    "\n",
    "print_menu(menu, money)"
   ]
  },
  {
   "cell_type": "code",
   "execution_count": 38,
   "id": "turned-civilization",
   "metadata": {},
   "outputs": [],
   "source": [
    "def buy_icecream(menu, money, select):\n",
    "    money += menu[select-1, 0]\n",
    "    menu[select-1, 1] -= 1"
   ]
  },
  {
   "cell_type": "code",
   "execution_count": 39,
   "id": "verified-mattress",
   "metadata": {},
   "outputs": [
    {
     "name": "stdout",
     "output_type": "stream",
     "text": [
      " Hello! Welcome to Hoon's Icecream :D   \n",
      "\n",
      "                  Menu                  \n",
      "\n",
      "1. Chocolate        $3        Left: 7   \n",
      "2. Strawberry       $5        Left: 4   \n",
      "3. Vanila           $2        Left: 4   \n",
      "4. Hazelnut         $7        Left: 7   \n",
      "5. Banana           $5        Left: 7   \n",
      "6. Orange           $6        Left: 7   \n",
      "\n",
      "                      Total income: $0\n"
     ]
    }
   ],
   "source": [
    "buy_icecream(menu, money, 1)\n",
    "buy_icecream(menu, money, 3)\n",
    "buy_icecream(menu, money, 2)\n",
    "buy_icecream(menu, money, 5)\n",
    "print_menu(menu, money)"
   ]
  },
  {
   "cell_type": "code",
   "execution_count": null,
   "id": "ancient-diagnosis",
   "metadata": {},
   "outputs": [],
   "source": []
  }
 ],
 "metadata": {
  "kernelspec": {
   "display_name": "Python 3",
   "language": "python",
   "name": "python3"
  },
  "language_info": {
   "codemirror_mode": {
    "name": "ipython",
    "version": 3
   },
   "file_extension": ".py",
   "mimetype": "text/x-python",
   "name": "python",
   "nbconvert_exporter": "python",
   "pygments_lexer": "ipython3",
   "version": "3.8.5"
  }
 },
 "nbformat": 4,
 "nbformat_minor": 5
}
