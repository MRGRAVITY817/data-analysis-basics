{
 "cells": [
  {
   "cell_type": "code",
   "execution_count": 1,
   "id": "warming-scholarship",
   "metadata": {},
   "outputs": [],
   "source": [
    "import numpy as np\n",
    "\n",
    "x = np.arange(1, 11)"
   ]
  },
  {
   "cell_type": "code",
   "execution_count": 2,
   "id": "owned-promise",
   "metadata": {},
   "outputs": [
    {
     "data": {
      "text/plain": [
       "array([ 1,  2,  3,  4,  5,  6,  7,  8,  9, 10])"
      ]
     },
     "execution_count": 2,
     "metadata": {},
     "output_type": "execute_result"
    }
   ],
   "source": [
    "x"
   ]
  },
  {
   "cell_type": "code",
   "execution_count": 7,
   "id": "reasonable-beverage",
   "metadata": {},
   "outputs": [
    {
     "data": {
      "text/plain": [
       "array([10,  9,  8,  7,  6,  5,  4,  3,  2,  1])"
      ]
     },
     "execution_count": 7,
     "metadata": {},
     "output_type": "execute_result"
    }
   ],
   "source": [
    "y = np.arange(10, 0, -1)\n",
    "y"
   ]
  },
  {
   "cell_type": "code",
   "execution_count": 9,
   "id": "mature-victim",
   "metadata": {},
   "outputs": [],
   "source": [
    "cond = np.array([True, True, True, True, False, False, False, False, False, False])"
   ]
  },
  {
   "cell_type": "code",
   "execution_count": 22,
   "id": "brave-entry",
   "metadata": {},
   "outputs": [],
   "source": [
    "def true_false_array(cond, x, y):\n",
    "    result = []\n",
    "    for index, value in enumerate(cond):\n",
    "        if value == True:\n",
    "            result.append(x[index])\n",
    "        else:\n",
    "            result.append(y[index])\n",
    "    return result"
   ]
  },
  {
   "cell_type": "code",
   "execution_count": 23,
   "id": "metropolitan-colonial",
   "metadata": {},
   "outputs": [
    {
     "data": {
      "text/plain": [
       "[1, 2, 3, 4, 6, 5, 4, 3, 2, 1]"
      ]
     },
     "execution_count": 23,
     "metadata": {},
     "output_type": "execute_result"
    }
   ],
   "source": [
    "result = true_false_array(cond, x, y)\n",
    "result"
   ]
  },
  {
   "cell_type": "code",
   "execution_count": 24,
   "id": "subjective-testament",
   "metadata": {},
   "outputs": [
    {
     "data": {
      "text/plain": [
       "array([1, 2, 3, 4, 6, 5, 4, 3, 2, 1])"
      ]
     },
     "execution_count": 24,
     "metadata": {},
     "output_type": "execute_result"
    }
   ],
   "source": [
    "result = np.where(cond, x, y)\n",
    "result"
   ]
  },
  {
   "cell_type": "code",
   "execution_count": 26,
   "id": "contemporary-channels",
   "metadata": {},
   "outputs": [],
   "source": [
    "rand_arr = np.random.randn(4,4)"
   ]
  },
  {
   "cell_type": "code",
   "execution_count": 32,
   "id": "authentic-europe",
   "metadata": {},
   "outputs": [
    {
     "data": {
      "text/plain": [
       "array([[-0.167317  , -1.72125253, -0.25244544, -1.85897899],\n",
       "       [ 0.17076864,  1.07731565,  2.36638048,  0.2299974 ],\n",
       "       [-0.32262029,  1.56109592,  0.72913015, -0.83637212],\n",
       "       [ 1.05154812, -1.29686095,  1.94255925,  0.38988731]])"
      ]
     },
     "execution_count": 32,
     "metadata": {},
     "output_type": "execute_result"
    }
   ],
   "source": [
    "rand_arr"
   ]
  },
  {
   "cell_type": "code",
   "execution_count": 35,
   "id": "false-astrology",
   "metadata": {},
   "outputs": [],
   "source": [
    "def true_false(rand_arr):\n",
    "    result = []\n",
    "    for value in rand_arr:\n",
    "        vector_result = []\n",
    "        for v in value:\n",
    "            if v >= 0:\n",
    "                vector_result.append(True)\n",
    "            else:\n",
    "                vector_result.append(False)\n",
    "        result.append(vector_result)\n",
    "    return result"
   ]
  },
  {
   "cell_type": "code",
   "execution_count": 36,
   "id": "coral-pontiac",
   "metadata": {},
   "outputs": [
    {
     "data": {
      "text/plain": [
       "[[False, False, False, False],\n",
       " [True, True, True, True],\n",
       " [False, True, True, False],\n",
       " [True, False, True, True]]"
      ]
     },
     "execution_count": 36,
     "metadata": {},
     "output_type": "execute_result"
    }
   ],
   "source": [
    "result = true_false(rand_arr)\n",
    "result"
   ]
  },
  {
   "cell_type": "code",
   "execution_count": 39,
   "id": "retired-trading",
   "metadata": {},
   "outputs": [],
   "source": [
    "truth_table = rand_arr < 0"
   ]
  },
  {
   "cell_type": "code",
   "execution_count": 40,
   "id": "optical-steel",
   "metadata": {},
   "outputs": [
    {
     "data": {
      "text/plain": [
       "array([[ True,  True,  True,  True],\n",
       "       [False, False, False, False],\n",
       "       [ True, False, False,  True],\n",
       "       [False,  True, False, False]])"
      ]
     },
     "execution_count": 40,
     "metadata": {},
     "output_type": "execute_result"
    }
   ],
   "source": [
    "truth_table"
   ]
  },
  {
   "cell_type": "code",
   "execution_count": 44,
   "id": "continuing-fossil",
   "metadata": {},
   "outputs": [
    {
     "data": {
      "text/plain": [
       "array([[ 2,  2,  2,  2],\n",
       "       [-2, -2, -2, -2],\n",
       "       [ 2, -2, -2,  2],\n",
       "       [-2,  2, -2, -2]])"
      ]
     },
     "execution_count": 44,
     "metadata": {},
     "output_type": "execute_result"
    }
   ],
   "source": [
    "# x = 2로 채워진 4*4 배열\n",
    "# y = -2로 채워진 4*4 배열\n",
    "np.where(truth_table, 2, -2)"
   ]
  },
  {
   "cell_type": "code",
   "execution_count": null,
   "id": "light-poultry",
   "metadata": {},
   "outputs": [],
   "source": []
  }
 ],
 "metadata": {
  "kernelspec": {
   "display_name": "Python 3",
   "language": "python",
   "name": "python3"
  },
  "language_info": {
   "codemirror_mode": {
    "name": "ipython",
    "version": 3
   },
   "file_extension": ".py",
   "mimetype": "text/x-python",
   "name": "python",
   "nbconvert_exporter": "python",
   "pygments_lexer": "ipython3",
   "version": "3.8.5"
  }
 },
 "nbformat": 4,
 "nbformat_minor": 5
}
