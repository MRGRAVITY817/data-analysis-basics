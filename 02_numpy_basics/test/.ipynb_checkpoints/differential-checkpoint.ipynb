{
 "cells": [
  {
   "cell_type": "markdown",
   "id": "administrative-specification",
   "metadata": {},
   "source": [
    "# Differential with python"
   ]
  },
  {
   "cell_type": "markdown",
   "id": "billion-first",
   "metadata": {},
   "source": [
    "Import matplotlib for plotting graph.  \n",
    "Import numpy for making N-dimensional array."
   ]
  },
  {
   "cell_type": "code",
   "execution_count": null,
   "id": "quantitative-neighborhood",
   "metadata": {},
   "outputs": [],
   "source": [
    "import matplotlib.pyplot as plt \n",
    "import numpy as np"
   ]
  },
  {
   "cell_type": "markdown",
   "id": "sonic-berlin",
   "metadata": {},
   "source": [
    "## Variable Definition  \n",
    "\n",
    "Variable x is **domain(range of x data)** of the function.  \n",
    "Variable x1 is a **sample point**.  \n",
    "Variable tangent_range is **linear domain of tangent line**.  \n",
    "Linear space is **continuous range** in axis.  "
   ]
  },
  {
   "cell_type": "code",
   "execution_count": null,
   "id": "affecting-lease",
   "metadata": {
    "tags": []
   },
   "outputs": [],
   "source": [
    "x = np.arange(-5, 5, 0.1) # x axis domain\n",
    "x1 = 3 # domain = x axis / range = y axis\n",
    "tangent_range = np.linspace(x1-2, x1+2, 10)"
   ]
  },
  {
   "cell_type": "markdown",
   "id": "still-shape",
   "metadata": {},
   "source": [
    "## Function Definition  \n",
    "\n",
    "f(x) is x^2\n"
   ]
  },
  {
   "cell_type": "code",
   "execution_count": null,
   "id": "contrary-paradise",
   "metadata": {},
   "outputs": [],
   "source": [
    "def f(x):\n",
    "  return x**2\n",
    "\n",
    "def slope(x):\n",
    "  return 2*x\n",
    "\n",
    "def line(x, x1, y1):\n",
    "  return slope(x1)*(x-x1) + y1"
   ]
  },
  {
   "cell_type": "code",
   "execution_count": null,
   "id": "later-uncle",
   "metadata": {},
   "outputs": [],
   "source": [
    "plt.figure() # Graph figure\n",
    "plt.plot(x,f(x)) \n",
    "plt.scatter(x1, f(x1), color='purple', s=50)\n",
    "plt.plot(tangent_range, line(tangent_range, x1, f(x1)), color='purple', linewidth=2)\n",
    "# plt.savefig('img/diff_img.png')\n",
    "plt.show()"
   ]
  },
  {
   "cell_type": "code",
   "execution_count": null,
   "id": "temporal-creek",
   "metadata": {},
   "outputs": [],
   "source": []
  }
 ],
 "metadata": {
  "kernelspec": {
   "display_name": "Python 3",
   "language": "python",
   "name": "python3"
  },
  "language_info": {
   "codemirror_mode": {
    "name": "ipython",
    "version": 3
   },
   "file_extension": ".py",
   "mimetype": "text/x-python",
   "name": "python",
   "nbconvert_exporter": "python",
   "pygments_lexer": "ipython3",
   "version": "3.8.5"
  }
 },
 "nbformat": 4,
 "nbformat_minor": 5
}
